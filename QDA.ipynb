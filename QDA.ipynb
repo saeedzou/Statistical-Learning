{
 "cells": [
  {
   "cell_type": "markdown",
   "metadata": {},
   "source": [
    "# Ex. 4.9 of The Elements of Statistical Learning\n",
    "\n",
    "Write a computer program to perform a quadratic discriminant\n",
    "analysis by fitting a separate Gaussian model per class."
   ]
  },
  {
   "cell_type": "code",
   "execution_count": 1,
   "metadata": {},
   "outputs": [
    {
     "name": "stdout",
     "output_type": "stream",
     "text": [
      "Train misclassification error: 0.011363636363636354\n",
      "Test misclassification error 0.5281385281385281\n"
     ]
    }
   ],
   "source": [
    "import numpy as np\n",
    "import pandas as pd\n",
    "from sklearn.discriminant_analysis import QuadraticDiscriminantAnalysis\n",
    "train_df = pd.read_csv('vowel.train', index_col='row.names')\n",
    "test_df = pd.read_csv('vowel.test', index_col='row.names')\n",
    "X_train, y_train, X_test, y_test = train_df.drop('y', axis=1), train_df['y'], test_df.drop('y',axis=1), test_df['y']\n",
    "qda = QuadraticDiscriminantAnalysis()\n",
    "qda.fit(X_train, y_train)\n",
    "print('Train misclassification error:', 1-qda.score(X_train, y_train))\n",
    "print('Test misclassification error', 1-qda.score(X_test, y_test))"
   ]
  },
  {
   "cell_type": "code",
   "execution_count": null,
   "metadata": {},
   "outputs": [],
   "source": []
  }
 ],
 "metadata": {
  "kernelspec": {
   "display_name": "Python 3 (ipykernel)",
   "language": "python",
   "name": "python3"
  },
  "language_info": {
   "codemirror_mode": {
    "name": "ipython",
    "version": 3
   },
   "file_extension": ".py",
   "mimetype": "text/x-python",
   "name": "python",
   "nbconvert_exporter": "python",
   "pygments_lexer": "ipython3",
   "version": "3.9.12"
  }
 },
 "nbformat": 4,
 "nbformat_minor": 4
}
